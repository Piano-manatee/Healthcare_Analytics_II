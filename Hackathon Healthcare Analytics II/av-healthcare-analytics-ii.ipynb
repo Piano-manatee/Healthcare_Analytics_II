{
 "cells": [
  {
   "cell_type": "markdown",
   "metadata": {
    "_cell_guid": "79c7e3d0-c299-4dcb-8224-4455121ee9b0",
    "_uuid": "d629ff2d2480ee46fbb7e2d37f6b5fab8052498a",
    "collapsed": true,
    "papermill": {
     "duration": 0.005613,
     "end_time": "2021-01-25T16:21:30.206774",
     "exception": false,
     "start_time": "2021-01-25T16:21:30.201161",
     "status": "completed"
    },
    "tags": []
   },
   "source": [
    "This is my first attempt\n",
    "\n",
    "The next steps are to add pipelines, research more effective methods, and improve accuracy"
   ]
  },
  {
   "cell_type": "code",
   "execution_count": 1,
   "metadata": {
    "_cell_guid": "b1076dfc-b9ad-4769-8c92-a6c4dae69d19",
    "_uuid": "8f2839f25d086af736a60e9eeb907d3b93b6e0e5",
    "execution": {
     "iopub.execute_input": "2021-01-25T16:21:30.235902Z",
     "iopub.status.busy": "2021-01-25T16:21:30.225379Z",
     "iopub.status.idle": "2021-01-25T16:21:55.177334Z",
     "shell.execute_reply": "2021-01-25T16:21:55.178034Z"
    },
    "papermill": {
     "duration": 24.966523,
     "end_time": "2021-01-25T16:21:55.178274",
     "exception": false,
     "start_time": "2021-01-25T16:21:30.211751",
     "status": "completed"
    },
    "tags": []
   },
   "outputs": [
    {
     "name": "stdout",
     "output_type": "stream",
     "text": [
      "/kaggle/input/av-healthcare-analytics-ii/healthcare/sample_sub.csv\n",
      "/kaggle/input/av-healthcare-analytics-ii/healthcare/train_data_dictionary.csv\n",
      "/kaggle/input/av-healthcare-analytics-ii/healthcare/train_data.csv\n",
      "/kaggle/input/av-healthcare-analytics-ii/healthcare/test_data.csv\n"
     ]
    }
   ],
   "source": [
    "import numpy as np\n",
    "import pandas as pd \n",
    "from sklearn.metrics import mean_absolute_error\n",
    "from sklearn.compose import ColumnTransformer\n",
    "from sklearn.pipeline import Pipeline\n",
    "from sklearn.impute import SimpleImputer\n",
    "from sklearn.preprocessing import LabelEncoder\n",
    "from sklearn.preprocessing import OneHotEncoder\n",
    "from xgboost import XGBRegressor\n",
    "\n",
    "# Input data files are available in the read-only \"../input/\" directory\n",
    "# For example, running this (by clicking run or pressing Shift+Enter) will list all files under the input directory\n",
    "\n",
    "import os\n",
    "for dirname, _, filenames in os.walk('/kaggle/input'):\n",
    "    for filename in filenames:\n",
    "        print(os.path.join(dirname, filename))\n",
    "\n",
    "sample_sub_filepath = \"../input/av-healthcare-analytics-ii/healthcare/sample_sub.csv\"\n",
    "train_data_dictionary_filepath = \"../input/av-healthcare-analytics-ii/healthcare/train_data_dictionary.csv\"\n",
    "train_data_filepath = \"../input/av-healthcare-analytics-ii/healthcare/train_data.csv\"\n",
    "test_data_filepath = \"../input/av-healthcare-analytics-ii/healthcare/test_data.csv\"\n",
    "\n",
    "sample_sub = pd.read_csv(sample_sub_filepath)\n",
    "train_data_dictionary = pd.read_csv(train_data_dictionary_filepath)\n",
    "train_data = pd.read_csv(train_data_filepath)\n",
    "test_data = pd.read_csv(test_data_filepath)\n",
    "\n",
    "# Determine objective in training data\n",
    "train_y = train_data.Stay\n",
    "\n",
    "# Remove unnecessary columns in train & test\n",
    "features = [\"Type of Admission\",\"Severity of Illness\",\"Age\"]\n",
    "train_X = train_data[features]\n",
    "val_X = test_data[features]\n",
    "\n",
    "# Label encoding (X)\n",
    "    # Get relevant columns\n",
    "label_encoder_features = [\"Severity of Illness\", \"Age\"]\n",
    "    # Make copy to preserve original data\n",
    "label_train_X = train_X.copy()\n",
    "label_val_X = val_X.copy()\n",
    "label_train_X = label_train_X[label_encoder_features]\n",
    "label_val_X = label_val_X[label_encoder_features]\n",
    "    # Label encode\n",
    "label_encoder=LabelEncoder()\n",
    "for col in label_encoder_features:\n",
    "    label_train_X[col]=label_encoder.fit_transform(label_train_X[col])\n",
    "    label_val_X[col]=label_encoder.transform(label_val_X[col])\n",
    "\n",
    "# Label encoding (y)\n",
    "label_train_y = train_y.copy()\n",
    "label_train_y = label_encoder.fit_transform(label_train_y)\n",
    "\n",
    "# One hot encoding (X)\n",
    "    # Get relevant columns\n",
    "one_hot_encoder_features = [\"Type of Admission\"]\n",
    "    # Make copy to preserve original data\n",
    "one_hot_train_X = train_X.copy()\n",
    "one_hot_val_X = val_X.copy()\n",
    "one_hot_train_X = one_hot_train_X[one_hot_encoder_features]\n",
    "one_hot_val_X = one_hot_val_X[one_hot_encoder_features]\n",
    "    # One hot encode \n",
    "one_hot_encoder = OneHotEncoder(sparse=False)\n",
    "one_hot_train_X = pd.DataFrame(one_hot_encoder.fit_transform(one_hot_train_X))\n",
    "one_hot_val_X = pd.DataFrame(one_hot_encoder.transform(one_hot_val_X))\n",
    "    # Get back columns names \n",
    "one_hot_train_X.columns = one_hot_encoder.get_feature_names(one_hot_encoder_features)\n",
    "one_hot_val_X.columns = one_hot_encoder.get_feature_names(one_hot_encoder_features)\n",
    "\n",
    "# Concatenate label and one hot encoding\n",
    "concat_train_X = pd.concat([label_train_X,one_hot_train_X],axis=1)\n",
    "concat_val_X = pd.concat([label_val_X,one_hot_val_X],axis=1)\n",
    "\n",
    "# Make predictions using the XGB model\n",
    "XGB_model = XGBRegressor(n_estimators=500)\n",
    "XGB_model.fit(concat_train_X, label_train_y)\n",
    "\n",
    "# Undo label encoding for predictions\n",
    "predictions = XGB_model.predict(concat_val_X).round()\n",
    "predictions = list(label_encoder.inverse_transform(predictions.astype(int)))\n",
    "predictions = np.array(predictions)\n",
    "\n",
    "# Save predictions to file\n",
    "output = pd.DataFrame( {\"case_id\" : test_data[\"case_id\"],\n",
    "                        \"Stay\": predictions})\n",
    "output.to_csv('submission.csv', index=False)\n",
    "\n",
    "# You can write up to 20GB to the current directory (/kaggle/working/) that gets preserved as output when you create a version using \"Save & Run All\" \n",
    "# You can also write temporary files to /kaggle/temp/, but they won't be saved outside of the current session"
   ]
  },
  {
   "cell_type": "markdown",
   "metadata": {
    "papermill": {
     "duration": 0.004737,
     "end_time": "2021-01-25T16:21:55.191660",
     "exception": false,
     "start_time": "2021-01-25T16:21:55.186923",
     "status": "completed"
    },
    "tags": []
   },
   "source": []
  }
 ],
 "metadata": {
  "kernelspec": {
   "display_name": "Python 3",
   "language": "python",
   "name": "python3"
  },
  "language_info": {
   "codemirror_mode": {
    "name": "ipython",
    "version": 3
   },
   "file_extension": ".py",
   "mimetype": "text/x-python",
   "name": "python",
   "nbconvert_exporter": "python",
   "pygments_lexer": "ipython3",
   "version": "3.7.6"
  },
  "papermill": {
   "duration": 32.09324,
   "end_time": "2021-01-25T16:21:56.216452",
   "environment_variables": {},
   "exception": null,
   "input_path": "__notebook__.ipynb",
   "output_path": "__notebook__.ipynb",
   "parameters": {},
   "start_time": "2021-01-25T16:21:24.123212",
   "version": "2.1.0"
  }
 },
 "nbformat": 4,
 "nbformat_minor": 4
}
